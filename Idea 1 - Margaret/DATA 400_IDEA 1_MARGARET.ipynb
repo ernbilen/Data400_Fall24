{
 "cells": [
  {
   "cell_type": "markdown",
   "id": "02fa6648",
   "metadata": {},
   "source": [
    "# Margaret Nguyen - Idea 1\n",
    "\n",
    "# Domain expertise: Quantitative Economics and Econometrics"
   ]
  },
  {
   "cell_type": "markdown",
   "id": "10205768",
   "metadata": {},
   "source": [
    "# 1. Research Question\n",
    "## What is the effect of factors (e.g., education, minimum wage, etc.) on wage disparity between disabled and non-disabled workers in the U.S. service industry?\n",
    "\n",
    "According to [The Washington Post](https://www.washingtonpost.com/wellness/interactive/2024/disability-subminimum-wages-contract-labor/?fbclid=IwZXh0bgNhZW0CMTEAAR14QtbFGrNSNIxLg5tvjGI2nxAxCeySOOZ_OHtcVd8AAovSrg2wYeLFdn0_aem_dcYOMG_R2VzvzCI1-qxoyg), **at least 40,000 workers with disabilities are paid subminimum wages across the U.S**. Most people with disabilities have never had a job in the community that paid at least the minimum wage. **In a 2019 to 2021 survey of 14(c) programs, which authorize employers to pay subminimum wages to workers with disabilities that impair their productivity,** the Government Accountability Office found that **81 percent of workers earning less than $3.50 per hour were paid a piece rate.** Another report from [The Washington Post](https://www.washingtonpost.com/wellness/interactive/2024/disability-subminimum-wages-contract-labor/?fbclid=IwZXh0bgNhZW0CMTEAAR14QtbFGrNSNIxLg5tvjGI2nxAxCeySOOZ_OHtcVd8AAovSrg2wYeLFdn0_aem_dcYOMG_R2VzvzCI1-qxoyg) demonstrates that **tens of thousands of disabled people in the United States are paid less than the federal minimum wage, with some workers earning as little as 25 cents per hour.**\n",
    "\n",
    "Wages below the minimum can significantly impact the lives and well-being of people with disabilities who are paid less than the minimum wage. **Under Section 14(c) of the Fair Labor Standards Act, employers who hold or apply for special certificates are authorized to pay subminimum wages to workers with disabilities that impair their productivity.** Raising the minimum wage might pose risks, such as increased unemployment due to employers being unable to afford higher wages. However, it is important to consider other factors, such as education. If a person with a disability has the same education level as a non-disabled person, they should have the right to equal pay. [Ballo (2023)](https://www.sciencedirect.com/science/article/pii/S0277953623004343?fbclid=IwZXh0bgNhZW0CMTEAAR3Vv4iUaHoUB3ohg15XnagPkaImw5zARUfGxJSWckOUWk5VJXPaAwMSMJk_aem_2vnkQwXBuKzy-MzCirt7FQ) illustrates that education reduces the income gap to 23 percent, and increasing adjusted R2 from 0.001 to 0.065. Therefore, the education coefficients indicate that long higher education is related to higher income than any lower educational levels.\n",
    "\n",
    "Additionally, I want to focus on the U.S. service industry because many jobs in this sector pay subminimum wages, which helps narrow the scope of the research question. This research question will help the policy maker to consider how policies and projects affect the economic well-being of low-wage workers with disabilities in the service industry. Therefore, those policies can help the disabled workers to have a better life."
   ]
  },
  {
   "cell_type": "markdown",
   "id": "c03442ba",
   "metadata": {},
   "source": [
    "# 2. Data Source\n",
    "\n",
    "I use two primary sources of data. First, I use data from the [Federal Reserve Economic Data (FRED)](https://fred.stlouisfed.org/), which provides annual federal and state minimum wage data in the United States. This panel data set covers a period from 2011 to 2019 pooling data from the federal, 45 states, the District of Columbia, Guam, Puerto Rico, and the U.S. Virgin Islands. This unit of the analysis is state with 50 observations in total. However, this data has 4 missing observations because these states do not have state minimum wage, including Alabama, Louisiana, Mississippi, South Carolina, and Tennessee. The federal minimum wage is applied to these states from 2011 to 2019. Second, I implement the American Community Survey (ACS) data from the [Integrated Public Use Microdata Series (IPUMS USA)](https://usa.ipums.org/usa/index.shtml), which offers access to more than sixty accurate and comprehensive samples of the U.S. population. This panel data set covers individuals' demographic, work, income, and household from 2011 to 2019. For the data from the IPUMS USA, I will obtain the following variables for my research:\n",
    "- Household-level variables include the Census year (YEAR), IPUMS sample identifier (SAMPLE), household serial number (SERIAL), original Census Bureau household serial number (CBSERIAL), household weight (HHWT), household cluster for variance estimation (CLUSTER), household strata for variance estimation (STRATA), group quarters status (GQ), and state FIPS code (STATEFIP).\n",
    "- Person-level variables include the person number in the sample unit (PERNUM), person weight (PERWT), sex (SEX), age (AGE), general employment status (EMPSTAT), detailed employment status (EMPSTATD), occupation (OCC), occupation based on the 2010 classification (OCC2010), industry (IND), wage and salary income (INCWAGE), Educational attainment (EDUC), cognitive difficulty (DIFFREM), ambulatory difficulty (DIFFPHYS), independent living difficulty (DIFFMOB), self-care difficulty (DIFFCARE), vision or hearing difficulty (DIFFSENS), vision difficulty (DIFFEYE), and hearing difficulty (DIFFHEAR).\n",
    "The data format for IPUMS USA is Comma delimited (.csv)."
   ]
  },
  {
   "cell_type": "markdown",
   "id": "2c6113ac",
   "metadata": {},
   "source": [
    "# 3. Data Analytics and Model Specification\n",
    "\n",
    "## Data Analytics:\n",
    "For this research, I plan to conduct exploratory data analysis (EDA) to better understand the dataset, check for missing or imbalanced data, and ensure data quality. The dataset will also be split into training and test sets for the machine learning model.\n",
    "\n",
    "## Model Specification:\n",
    "I plan to use Ordinary Least Squares (OLS) regression to determine the effect of factors (e.g., education, minimum wage, etc.) on wage disparity between disabled and non-disabled low-wage workers in the U.S. service industry.\n",
    "- The dependent variable is the wage gap between disabled and non-disabled workers in the U.S. service industry.\n",
    "- The independent variables include gender, minimum wage (in log form for better interpretability of coefficients), sex, education, disability, service sector, state, and year.\n",
    "\n",
    "Note that some variables, such as the dummy variables for education, disability, and service sector, as well as the wage gap between disabled and non-disabled workers, may need to be adjusted before being input into the model."
   ]
  }
 ],
 "metadata": {
  "kernelspec": {
   "display_name": "Python 3 (ipykernel)",
   "language": "python",
   "name": "python3"
  },
  "language_info": {
   "codemirror_mode": {
    "name": "ipython",
    "version": 3
   },
   "file_extension": ".py",
   "mimetype": "text/x-python",
   "name": "python",
   "nbconvert_exporter": "python",
   "pygments_lexer": "ipython3",
   "version": "3.9.13"
  }
 },
 "nbformat": 4,
 "nbformat_minor": 5
}
