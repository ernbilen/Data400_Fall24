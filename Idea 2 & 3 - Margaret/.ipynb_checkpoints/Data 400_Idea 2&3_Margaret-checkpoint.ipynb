{
 "cells": [
  {
   "cell_type": "markdown",
   "id": "a0265a28",
   "metadata": {},
   "source": [
    "# Data 400 - Margaret Nguyen\n",
    "\n",
    "## Idea 2: Web-Scraping Project - Analysis of the Current Job Market\n",
    "\n",
    "### 1. Research Question: What is the current state of the STEM-related job market for recent graduates?\n",
    "\n",
    "The question, \"Why is it so difficult to find a job after graduating?\" is commonly asked by many undergraduate and graduate students. **According to [The New York Times](https://www.nytimes.com/2024/04/29/opinion/college-graduates-job-market.html), a significant number of graduates face challenges, with 52% of college graduates being underemployed a year after completing their studies.** This project aims to **explore the current trends in the U.S. job market by web-scraping relevant data.** The focus will be on **Data Analytics, Computer Science, and Data Science job postings.** The following key questions will guide this research:\n",
    "\n",
    "1. Are there enough entry-level positions for recent graduates?\n",
    "2. How many of these jobs are entry-level, and how does that compare to roles requiring more experience?\n",
    "3. What skills and programming languages are most in demand?\n",
    "4. How do salaries vary across states for these roles?\n",
    "\n",
    "Findings from this research could help identify in-demand skills to address skill gaps, guide workforce development initiatives by creating targeted programs, and promote fair employment practices by increasing the availability of entry-level job opportunities.\n",
    "\n",
    "### 2. Data Source\n",
    "\n",
    "The web-scraping will target [Indeed](https://www.indeed.com/) to gather job postings across the 50 states and U.S. territories for positions related to Data Analytics, Computer Science, and Data Science. Data points such as job title, location, salary, and job descriptions will be collected. \n",
    "\n",
    "Additionally, data from the [National Center for Education Statistics (NCES)](https://nces.ed.gov/programs/digest/d23/tables/dt23_322.10.asp) will be utilized to compare the number of job opportunities with the number of graduates in these fields. Specific NCES datasets, including [Undergraduate Degree Fields](https://nces.ed.gov/programs/coe/indicator/cta/undergrad-degree-fields) and [Graduate Degree Fields](https://nces.ed.gov/programs/coe/indicator/ctb/graduate-degree-fields), will provide insight into the U.S. graduate population. Although these datasets only extend to 2022, it is assumed that the market has remained relatively stable through 2024 due to the absence of major economic disruptions, such as COVID-19 or the 2008 economic depression.\n",
    "\n",
    "### 3. Data Analytics and Model Specification\n",
    "\n",
    "The project will involve data cleaning, exploratory data analysis (EDA), and text analysis of job descriptions to identify key trends and insights. I will also create a dashboard to visualize my findings."
   ]
  },
  {
   "cell_type": "markdown",
   "id": "8cbb8936",
   "metadata": {},
   "source": [
    "## Idea 3: Web-Scraping Project – Diversity of Student Body and Its Relation to U.S. College Rankings\n",
    "\n",
    "### 1. Research Question: Does a more diverse student body correlate with higher academic performance or college rankings?\n",
    "\n",
    "**According to [U.S. News & World Report](https://www.usnews.com/education/best-colleges/articles/diversity-in-college-and-why-it-matters), diverse college campuses provide students with the opportunity to engage with different worldviews and perspectives shaped by various experiences.** This exposure can enhance their learning experience. Similarly, a study by [Chilton, Adam, Driver, Justin, Masur, Jonathan S., and Rozema, Kyle](https://papers.ssrn.com/sol3/papers.cfm?abstract_id=3856280#) suggests that **diverse groups, such as student editors, tend to perform better than non-diverse groups. This lends credibility to the idea that diverse student bodies, faculties, and teams perform better across various settings.**\n",
    "\n",
    "In this project, I aim to explore whether a more diverse student body is associated with higher college rankings. Findings from this research could promote educational equity and inform policies that aim to increase diversity in schools, ensuring that all students, regardless of background, have access to high-quality education.\n",
    "\n",
    "### 2. Data Source\n",
    "\n",
    "The web-scraping process will target the top 100 colleges from both the [U.S. News National University Ranking](https://www.usnews.com/best-colleges/rankings/national-universities) and the [U.S. News National Liberal Arts Colleges Ranking](https://www.usnews.com/best-colleges/rankings/national-liberal-arts-colleges). Additionally, I will compare the emphasis on diversity between national universities and liberal arts colleges.\n",
    "\n",
    "To gather data on student diversity, I will use the [Common Data Set (CDS)](https://commondataset.org/), which provides detailed information from universities, such as the gender breakdown, racial composition, and other demographic metrics. Most U.S. universities have a CDS available. For example, [Harvard's Common Data Set](https://oira.harvard.edu/common-data-set) includes this type of data. \n",
    "\n",
    "Moreover, I plan to incorporate global rankings from the [QS World University Rankings 2025](https://www.topuniversities.com/world-university-rankings) and the [Times Higher Education World University Rankings 2024](https://www.timeshighereducation.com/world-university-rankings/2024/world-ranking) to assess how U.S. institutions perform on a global scale and whether diversity plays a role in their global ranking.\n",
    "\n",
    "### 3. Data Analytics and Model Specification\n",
    "\n",
    "The project will involve data cleaning and exploratory data analysis (EDA) to identify trends and relationships. I will create visualizations through a dashboard to present my findings, highlighting the impact of student body diversity on college rankings and academic performance."
   ]
  }
 ],
 "metadata": {
  "kernelspec": {
   "display_name": "Python 3 (ipykernel)",
   "language": "python",
   "name": "python3"
  },
  "language_info": {
   "codemirror_mode": {
    "name": "ipython",
    "version": 3
   },
   "file_extension": ".py",
   "mimetype": "text/x-python",
   "name": "python",
   "nbconvert_exporter": "python",
   "pygments_lexer": "ipython3",
   "version": "3.9.13"
  }
 },
 "nbformat": 4,
 "nbformat_minor": 5
}
